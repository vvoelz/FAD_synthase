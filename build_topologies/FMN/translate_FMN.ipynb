{
 "cells": [
  {
   "cell_type": "markdown",
   "metadata": {},
   "source": [
    "### Here, we translate all the heavy atoms of our parameterized FMN gro/top to new positions specified by the docked model.\n",
    "\n",
    "We also need to translate all the H-bonds as well, by parsing the topology file to find the bond vectors (C-H, N-H, O-H) \n",
    "\n",
    "**NOTE** The H positions will be all wonky, but at least they will be close enough to MINIMIZE without crashing."
   ]
  },
  {
   "cell_type": "code",
   "execution_count": 9,
   "metadata": {},
   "outputs": [
    {
     "name": "stdout",
     "output_type": "stream",
     "text": [
      "\u001b[34mFMN.amb2gmx\u001b[m\u001b[m/         FMN_fromMod.gro      leap.log\n",
      "FMN.crd              FMN_fromMod.pdb      runme\n",
      "FMN.off              README.md            translate_FMN.ipynb\n",
      "FMN.pdb              build_FMN.leap\n",
      "FMN.prmtop           fmn.frcfld\n"
     ]
    }
   ],
   "source": [
    "%ls"
   ]
  },
  {
   "cell_type": "markdown",
   "metadata": {},
   "source": [
    "First, read in the grofile whose coords we will alter"
   ]
  },
  {
   "cell_type": "code",
   "execution_count": 10,
   "metadata": {},
   "outputs": [],
   "source": [
    "grofile = 'FMN.amb2gmx/FMN_GMX.gro'\n",
    "fin = open(grofile, 'r')\n",
    "grolines = fin.readlines()\n",
    "fin.close()\n",
    "\n",
    "verbose = False\n",
    "if (verbose):\n",
    "    for line in lines:\n",
    "        print(line.strip())\n",
    "\n",
    "# Lines look like this:\n",
    "\"\"\"\n",
    "FMN_GMX.gro created by acpype (v: 2022.6.6) on Tue Apr  9 10:18:59 2024\n",
    "50\n",
    "1  FMN   N1    1  -0.832  -0.639  -0.053\n",
    "1  FMN   C2    2  -0.898  -0.643  -0.173\n",
    "1  FMN   O2    3  -1.018  -0.670  -0.181\n",
    "...\n",
    "1  FMN H5'1   49  -1.115  -0.785   0.436\n",
    "1  FMN H5'2   50  -1.003  -0.658   0.490\n",
    "28.05800     8.87600    17.95600\n",
    "\"\"\"\n",
    "\n",
    "import numpy as np\n",
    "\n",
    "class Atom():\n",
    "    \"\"\"A Container object to store atom information and read/write representations.\"\"\"\n",
    "    \n",
    "    def __init__(self, line):\n",
    "        \"\"\"Initialize by parsing the input line\"\"\"\n",
    "        \n",
    "        fields = (line.strip()).split()\n",
    "        self.resnum    = int(fields[0])\n",
    "        self.resname   = fields[1]\n",
    "        self.atomname  = fields[2]\n",
    "        self.atomnum   = int(fields[3])\n",
    "        self.xyz       = np.array([float(fields[4]), float(fields[5]), float(fields[6])])\n",
    "    \n",
    "    def __repr__(self):\n",
    "        \"\"\"Return a representation of the atom -- a *.gro file line (without final newline)\"\"\"\n",
    "        \n",
    "        # f-string command to format and print the information\n",
    "        return f\"{self.resnum:>5d} {self.resname:>4s} {self.atomname:>4s} {self.atomnum:>4d} {self.xyz[0]:7.3f} {self.xyz[1]:7.3f} {self.xyz[2]:7.3f}\"\n",
    "        \n"
   ]
  },
  {
   "cell_type": "code",
   "execution_count": 11,
   "metadata": {},
   "outputs": [
    {
     "name": "stdout",
     "output_type": "stream",
     "text": [
      "    1  FMN   N1    1  -0.832  -0.639  -0.053\n",
      "    1  FMN   C2    2  -0.898  -0.643  -0.173\n",
      "    1  FMN   O2    3  -1.018  -0.670  -0.181\n",
      "    1  FMN   N3    4  -0.819  -0.615  -0.288\n",
      "    1  FMN   C4    5  -0.682  -0.583  -0.290\n",
      "    1  FMN   O4    6  -0.625  -0.561  -0.397\n",
      "    1  FMN  C4A    7  -0.619  -0.581  -0.157\n",
      "    1  FMN   N5    8  -0.485  -0.552  -0.150\n",
      "    1  FMN  C5A    9  -0.423  -0.567  -0.030\n",
      "    1  FMN   C6   10  -0.285  -0.556  -0.026\n",
      "    1  FMN   C7   11  -0.217  -0.570   0.090\n",
      "    1  FMN  C7M   12  -0.068  -0.556   0.089\n",
      "    1  FMN   C8   13  -0.283  -0.596   0.206\n",
      "    1  FMN  C8M   14  -0.207  -0.613   0.333\n",
      "    1  FMN   C9   15  -0.419  -0.609   0.207\n",
      "    1  FMN  C9A   16  -0.493  -0.595   0.090\n",
      "    1  FMN  N10   17  -0.634  -0.606   0.084\n",
      "    1  FMN  C10   18  -0.699  -0.610  -0.041\n",
      "    1  FMN  C1'   19  -0.714  -0.557   0.203\n",
      "    1  FMN  C2'   20  -0.749  -0.663   0.312\n",
      "    1  FMN  O2'   21  -0.764  -0.600   0.438\n",
      "    1  FMN  C3'   22  -0.870  -0.750   0.275\n",
      "    1  FMN  O3'   23  -0.875  -0.866   0.357\n",
      "    1  FMN  C4'   24  -1.009  -0.681   0.274\n",
      "    1  FMN  O4'   25  -1.092  -0.749   0.180\n",
      "    1  FMN  C5'   26  -1.078  -0.683   0.412\n",
      "    1  FMN  O5'   27  -1.181  -0.585   0.423\n",
      "    1  FMN    P   28  -1.332  -0.616   0.386\n",
      "    1  FMN  O1P   29  -1.347  -0.753   0.334\n",
      "    1  FMN  O2P   30  -1.422  -0.571   0.494\n",
      "    1  FMN  O3P   31  -1.361  -0.520   0.262\n",
      "    1  FMN   H3   32  -0.864  -0.615  -0.379\n",
      "    1  FMN   H6   33  -0.230  -0.535  -0.118\n",
      "    1  FMN H7M1   34  -0.035  -0.476   0.158\n",
      "    1  FMN H7M2   35  -0.019  -0.651   0.119\n",
      "    1  FMN H7M3   36  -0.030  -0.530  -0.013\n",
      "    1  FMN H8M1   37  -0.271  -0.657   0.413\n",
      "    1  FMN H8M2   38  -0.121  -0.681   0.321\n",
      "    1  FMN H8M3   39  -0.168  -0.515   0.369\n",
      "    1  FMN   H9   40  -0.467  -0.630   0.302\n",
      "    1  FMN H1'1   41  -0.808  -0.506   0.171\n",
      "    1  FMN H1'2   42  -0.655  -0.476   0.253\n",
      "    1  FMN  H2'   43  -0.660  -0.729   0.321\n",
      "    1  FMN  HO2   44  -0.776  -0.671   0.501\n",
      "    1  FMN  H3'   45  -0.850  -0.787   0.172\n",
      "    1  FMN  HO3   46  -0.946  -0.920   0.323\n",
      "    1  FMN  H4'   47  -0.997  -0.576   0.240\n",
      "    1  FMN  HO4   48  -1.182  -0.742   0.216\n",
      "    1  FMN H5'1   49  -1.115  -0.785   0.436\n",
      "    1  FMN H5'2   50  -1.003  -0.658   0.490\n",
      "heavy_atomnums [1, 2, 3, 4, 5, 6, 7, 8, 9, 10, 11, 12, 13, 14, 15, 16, 17, 18, 19, 20, 21, 22, 23, 24, 25, 26, 27, 28, 29, 30, 31]\n",
      "hydrogen_atomnums [32, 33, 34, 35, 36, 37, 38, 39, 40, 41, 42, 43, 44, 45, 46, 47, 48, 49, 50]\n"
     ]
    }
   ],
   "source": [
    "# Read the grofile atoms into a dictionary\n",
    "title_line   = grolines.pop(0)\n",
    "natoms_line  = grolines.pop(0)\n",
    "boxsize_line = grolines.pop()\n",
    "\n",
    "atoms = {}  # dict of {atomnum: Atom()}\n",
    "for line in grolines:\n",
    "    a = Atom(line)\n",
    "    print(a)\n",
    "    atoms[a.atomnum] = a\n",
    "    \n",
    "heavy_atomnums = []\n",
    "hydrogen_atomnums = []\n",
    "for atomnum,a in atoms.items():\n",
    "    if a.atomname.count('H'):\n",
    "        hydrogen_atomnums.append(atomnum)\n",
    "    else:\n",
    "        heavy_atomnums.append(atomnum)\n",
    "print('heavy_atomnums', heavy_atomnums)\n",
    "print('hydrogen_atomnums', hydrogen_atomnums)"
   ]
  },
  {
   "cell_type": "code",
   "execution_count": 12,
   "metadata": {},
   "outputs": [
    {
     "name": "stdout",
     "output_type": "stream",
     "text": [
      "[[4, 32], [10, 33], [12, 34], [12, 35], [12, 36], [14, 37], [14, 38], [14, 39], [15, 40], [19, 41], [19, 42], [20, 43], [21, 44], [22, 45], [23, 46], [24, 47], [25, 48], [26, 49], [26, 50]]\n",
      "[array([-0.045,  0.   , -0.091]), array([ 0.055,  0.021, -0.092]), array([0.033, 0.08 , 0.069]), array([ 0.049, -0.095,  0.03 ]), array([ 0.038,  0.026, -0.102]), array([-0.064, -0.044,  0.08 ]), array([ 0.086, -0.068, -0.012]), array([0.039, 0.098, 0.036]), array([-0.048, -0.021,  0.095]), array([-0.094,  0.051, -0.032]), array([0.059, 0.081, 0.05 ]), array([ 0.089, -0.066,  0.009]), array([-0.012, -0.071,  0.063]), array([ 0.02 , -0.037, -0.103]), array([-0.071, -0.054, -0.034]), array([ 0.012,  0.105, -0.034]), array([-0.09 ,  0.007,  0.036]), array([-0.037, -0.102,  0.024]), array([0.075, 0.025, 0.078])]\n"
     ]
    }
   ],
   "source": [
    "topfile = 'FMN.amb2gmx/FMN_GMX.top'\n",
    "fin = open(topfile, 'r')\n",
    "toplines = fin.readlines()\n",
    "fin.close()\n",
    "\n",
    "hbond_pairs = []  # atomnum1, atomnum2\n",
    "hbond_vectors = []  # the displacement vector from the heavy to the hydrogen\n",
    "\n",
    "i = 0\n",
    "while toplines[i].count('[ bonds ]') == 0:\n",
    "    i += 1\n",
    "i += 2  # skip this line, and skip the ; comment\n",
    "while toplines[i].strip() != '':\n",
    "    fields = toplines[i].split()\n",
    "    atomnum1, atomnum2 = int(fields[0]), int(fields[1])  # note that the H is always the *second* number\n",
    "    if (atomnum1 in hydrogen_atomnums) or (atomnum2 in hydrogen_atomnums):\n",
    "        hbond_pairs.append( [atomnum1, atomnum2] )\n",
    "        hbond_vectors.append( atoms[atomnum2].xyz - atoms[atomnum1].xyz )\n",
    "    i += 1\n",
    "\n",
    "print(hbond_pairs) \n",
    "print(hbond_vectors)\n"
   ]
  },
  {
   "cell_type": "code",
   "execution_count": 13,
   "metadata": {},
   "outputs": [
    {
     "name": "stdout",
     "output_type": "stream",
     "text": [
      "FMN_GMX.gro                             em.tpr\n",
      "FMN_GMX.top                             em.trr\n",
      "FMN_GMX_posre.itp                       ener.edr\n",
      "FMN_GMX_posre.top                       index.ndx\n",
      "FMN_GMX_translated.gro                  md.log\n",
      "FMN_GMX_translated_minimized.gro        md.mdp\n",
      "FMN_GMX_translated_minimized_nopbc.gro  mdout.mdp\n",
      "acpype.log                              out.gro\n",
      "em.edr                                  posre_FMN.itp\n",
      "em.gro                                  \u001b[31mrungmx.sh\u001b[m\u001b[m*\n",
      "em.log                                  \u001b[31mrungmx_wcoords.sh\u001b[m\u001b[m*\n",
      "em.mdp                                  traj.trr\n"
     ]
    }
   ],
   "source": [
    "%ls FMN.amb2gmx"
   ]
  },
  {
   "cell_type": "markdown",
   "metadata": {},
   "source": [
    "Next, we will read it the grofile that contains the target coords"
   ]
  },
  {
   "cell_type": "code",
   "execution_count": 14,
   "metadata": {},
   "outputs": [
    {
     "name": "stdout",
     "output_type": "stream",
     "text": [
      "{1:  3609  FMN    P    1   6.175  12.325   3.811, 2:  3609  FMN  O1P    2   6.164  12.358   3.954, 3:  3609  FMN  O2P    3   6.091  12.191   3.780, 4:  3609  FMN  O3P    4   6.329  12.301   3.773, 5:  3609  FMN  C5'    5   6.194  12.561   3.754, 6:  3609  FMN  O5'    6   6.116  12.446   3.723, 7:  3609  FMN  C4'    7   6.143  12.681   3.673, 8:  3609  FMN  O4'    8   6.259  12.763   3.693, 9:  3609  FMN  C3'    9   6.023  12.743   3.585, 10:  3609  FMN  O3'   10   5.955  12.655   3.496, 11:  3609  FMN  C2'   11   5.953  12.880   3.584, 12:  3609  FMN  O2'   12   5.816  12.863   3.622, 13:  3609  FMN  C1'   13   6.022  12.972   3.684, 14:  3609  FMN   N1   14   5.806  13.039   3.853, 15:  3609  FMN   C2   15   5.704  13.065   3.934, 16:  3609  FMN   O2   16   5.667  12.977   4.010, 17:  3609  FMN   N3   17   5.640  13.182   3.938, 18:  3609  FMN   C4   18   5.675  13.285   3.856, 19:  3609  FMN  C4A   19   5.788  13.261   3.763, 20:  3609  FMN   O4   20   5.616  13.391   3.859, 21:  3609  FMN  C5A   21   5.933  13.328   3.598, 22:  3609  FMN   N5   22   5.830  13.353   3.680, 23:  3609  FMN   C6   23   5.977  13.429   3.509, 24:  3609  FMN   C7   24   6.081  13.404   3.425, 25:  3609  FMN  C7M   25   6.128  13.512   3.330, 26:  3609  FMN   C8   26   6.144  13.280   3.425, 27:  3609  FMN  C8M   27   6.259  13.255   3.330, 28:  3609  FMN   C9   28   6.103  13.180   3.510, 29:  3609  FMN  C9A   29   5.997  13.203   3.598, 30:  3609  FMN  C10   30   5.852  13.129   3.767, 31:  3609  FMN  N10   31   5.956  13.103   3.683}\n"
     ]
    }
   ],
   "source": [
    "grofile_wcoords = 'FMN_fromMod.gro'\n",
    "fin = open(grofile_wcoords, 'r')\n",
    "grofile_wcoords_lines = fin.readlines()\n",
    "fin.close()\n",
    "\n",
    "# This files looks like this:\n",
    "\"\"\"Glycine aRginine prOline Methionine Alanine Cystine Serine\n",
    "31\n",
    "3609FMN      P    1   6.175  12.325   3.811\n",
    "3609FMN    O1P    2   6.164  12.358   3.954\n",
    "3609FMN    O2P    3   6.091  12.191   3.780\n",
    "...\n",
    "3609FMN    C10   30   5.852  13.129   3.767\n",
    "3609FMN    N10   31   5.956  13.103   3.683\n",
    "0.00000   0.00000   0.00000\n",
    "\"\"\"\n",
    "\n",
    "# The lack of a space in '3609FMN' will break the Atom() initializer, so let's put a space in there:\n",
    "for i in range(len(grofile_wcoords_lines)):\n",
    "    grofile_wcoords_lines[i] = grofile_wcoords_lines[i].replace('3609FMN', '3609 FMN')\n",
    "\n",
    "# Read the grofile_wcoords atoms into a dictionary\n",
    "atoms_wcoords = {}  # dict of {atomnum: Atom()}\n",
    "for line in grofile_wcoords_lines[2:-1]:\n",
    "    a = Atom(line)\n",
    "    atoms_wcoords[a.atomnum] = a\n",
    "\n",
    "print(atoms_wcoords)"
   ]
  },
  {
   "cell_type": "markdown",
   "metadata": {},
   "source": [
    "### Copy the target coords of the heavy atoms ...\n",
    "### ... then hydrogens into the grofile\n"
   ]
  },
  {
   "cell_type": "code",
   "execution_count": 15,
   "metadata": {},
   "outputs": [
    {
     "name": "stdout",
     "output_type": "stream",
     "text": [
      "    1  FMN   N1    1   5.806  13.039   3.853\n",
      "    1  FMN   C2    2   5.704  13.065   3.934\n",
      "    1  FMN   O2    3   5.667  12.977   4.010\n",
      "    1  FMN   N3    4   5.640  13.182   3.938\n",
      "    1  FMN   C4    5   5.675  13.285   3.856\n",
      "    1  FMN   O4    6   5.616  13.391   3.859\n",
      "    1  FMN  C4A    7   5.788  13.261   3.763\n",
      "    1  FMN   N5    8   5.830  13.353   3.680\n",
      "    1  FMN  C5A    9   5.933  13.328   3.598\n",
      "    1  FMN   C6   10   5.977  13.429   3.509\n",
      "    1  FMN   C7   11   6.081  13.404   3.425\n",
      "    1  FMN  C7M   12   6.128  13.512   3.330\n",
      "    1  FMN   C8   13   6.144  13.280   3.425\n",
      "    1  FMN  C8M   14   6.259  13.255   3.330\n",
      "    1  FMN   C9   15   6.103  13.180   3.510\n",
      "    1  FMN  C9A   16   5.997  13.203   3.598\n",
      "    1  FMN  N10   17   5.956  13.103   3.683\n",
      "    1  FMN  C10   18   5.852  13.129   3.767\n",
      "    1  FMN  C1'   19   6.022  12.972   3.684\n",
      "    1  FMN  C2'   20   5.953  12.880   3.584\n",
      "    1  FMN  O2'   21   5.816  12.863   3.622\n",
      "    1  FMN  C3'   22   6.023  12.743   3.585\n",
      "    1  FMN  O3'   23   5.955  12.655   3.496\n",
      "    1  FMN  C4'   24   6.143  12.681   3.673\n",
      "    1  FMN  O4'   25   6.259  12.763   3.693\n",
      "    1  FMN  C5'   26   6.194  12.561   3.754\n",
      "    1  FMN  O5'   27   6.116  12.446   3.723\n",
      "    1  FMN    P   28   6.175  12.325   3.811\n",
      "    1  FMN  O1P   29   6.164  12.358   3.954\n",
      "    1  FMN  O2P   30   6.091  12.191   3.780\n",
      "    1  FMN  O3P   31   6.329  12.301   3.773\n",
      "    1  FMN   H3   32   5.595  13.182   3.847\n",
      "    1  FMN   H6   33   6.032  13.450   3.417\n",
      "    1  FMN H7M1   34   6.161  13.592   3.399\n",
      "    1  FMN H7M2   35   6.177  13.417   3.360\n",
      "    1  FMN H7M3   36   6.166  13.538   3.228\n",
      "    1  FMN H8M1   37   6.195  13.211   3.410\n",
      "    1  FMN H8M2   38   6.345  13.187   3.318\n",
      "    1  FMN H8M3   39   6.298  13.353   3.366\n",
      "    1  FMN   H9   40   6.055  13.159   3.605\n",
      "    1  FMN H1'1   41   5.928  13.023   3.652\n",
      "    1  FMN H1'2   42   6.081  13.053   3.734\n",
      "    1  FMN  H2'   43   6.042  12.814   3.593\n",
      "    1  FMN  HO2   44   5.804  12.792   3.685\n",
      "    1  FMN  H3'   45   6.043  12.706   3.482\n",
      "    1  FMN  HO3   46   5.884  12.601   3.462\n",
      "    1  FMN  H4'   47   6.155  12.786   3.639\n",
      "    1  FMN  HO4   48   6.169  12.770   3.729\n",
      "    1  FMN H5'1   49   6.157  12.459   3.778\n",
      "    1  FMN H5'2   50   6.269  12.586   3.832\n"
     ]
    }
   ],
   "source": [
    "for atomnum in heavy_atomnums:\n",
    "    name = atoms[atomnum].atomname\n",
    "    \n",
    "    # Look for this atom in the atoms_wcoords\n",
    "    for atomnum_wcoords, a_wcoords in atoms_wcoords.items():\n",
    "        if a_wcoords.atomname == name:\n",
    "            atoms[atomnum].xyz = a_wcoords.xyz\n",
    "            print(atoms[atomnum])\n",
    "            break\n",
    "\n",
    "# ... then the hydrogens\n",
    "for i in range(len(hbond_pairs)):\n",
    "    atomnum1, atomnum2 = hbond_pairs[i]\n",
    "    atoms[atomnum2].xyz = atoms[atomnum1].xyz + hbond_vectors[i]\n",
    "    print(atoms[atomnum2])\n"
   ]
  },
  {
   "cell_type": "markdown",
   "metadata": {},
   "source": [
    "### Write the result to file, using the *receptor's* box size"
   ]
  },
  {
   "cell_type": "code",
   "execution_count": 16,
   "metadata": {},
   "outputs": [
    {
     "name": "stdout",
     "output_type": "stream",
     "text": [
      "Wrote: FMN.amb2gmx/FMN_GMX_translated.gro\n"
     ]
    }
   ],
   "source": [
    "out_grofile = 'FMN.amb2gmx/FMN_GMX_translated.gro'\n",
    "fout = open(out_grofile, 'w')\n",
    "fout.write(title_line)\n",
    "fout.write(natoms_line)\n",
    "for atomnum in range(1, 51):\n",
    "    fout.write(repr(atoms[atomnum])+'\\n')\n",
    "    \n",
    "fout.write('   4.83860   6.38259   6.47657\\n')  # from ../receptor/conf.gro    \n",
    "# fout.write(boxsize_line)\n",
    "fout.close()\n",
    "print(f'Wrote: {out_grofile}')\n",
    "\n"
   ]
  },
  {
   "cell_type": "code",
   "execution_count": null,
   "metadata": {},
   "outputs": [],
   "source": []
  },
  {
   "cell_type": "code",
   "execution_count": null,
   "metadata": {},
   "outputs": [],
   "source": []
  }
 ],
 "metadata": {
  "kernelspec": {
   "display_name": "Python 3",
   "language": "python",
   "name": "python3"
  },
  "language_info": {
   "codemirror_mode": {
    "name": "ipython",
    "version": 3
   },
   "file_extension": ".py",
   "mimetype": "text/x-python",
   "name": "python",
   "nbconvert_exporter": "python",
   "pygments_lexer": "ipython3",
   "version": "3.8.5"
  }
 },
 "nbformat": 4,
 "nbformat_minor": 4
}
